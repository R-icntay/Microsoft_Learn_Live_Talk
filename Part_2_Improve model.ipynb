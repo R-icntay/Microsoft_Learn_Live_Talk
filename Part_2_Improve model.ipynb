{
  "cells": [
    {
      "cell_type": "code",
      "execution_count": null,
      "metadata": {
        "vscode": {
          "languageId": "r"
        }
      },
      "outputs": [],
      "source": [
        "# Setup chunk to install and load required packages\n",
        "knitr::opts_chunk$set(warning = FALSE, message = FALSE)\n",
        "suppressWarnings(if(!require(\"pacman\")) install.packages(\"pacman\"))\n",
        "\n",
        "pacman::p_load('tidyverse', 'tidymodels', 'glmnet',\n",
        "               'randomForest', 'xgboost','patchwork',\n",
        "               'paletteer', 'here', 'doParallel', 'summarytools')"
      ]
    },
    {
      "cell_type": "markdown",
      "metadata": {},
      "source": [
        "## **Regression - Optimize and save models**\n",
        "\n",
        "In the previous notebook, we used a linear regression model to look at the relationship between features of a bike rentals dataset.\n",
        "In this notebook, we'll see if we can improve the performance of these models even further.\n",
        "\n",
        "Let's begin by loading the bicycle sharing data as a tibble and viewing the first few rows.\n",
        "We'll also split our data into training and test datasets."
      ]
    },
    {
      "cell_type": "code",
      "execution_count": 1,
      "metadata": {
        "vscode": {
          "languageId": "r"
        }
      },
      "outputs": [
        {
          "name": "stdout",
          "output_type": "stream",
          "text": [
            "Training Set 511 rows \n",
            "Test Set 220 rows"
          ]
        }
      ],
      "source": [
        "# Load the required packages and make them available in your current R session\n",
        "suppressPackageStartupMessages({\n",
        "  library(tidyverse)\n",
        "  library(tidymodels)\n",
        "  library(lubridate)\n",
        "  library(paletteer)\n",
        "})\n",
        "\n",
        "# Import the data into the R session\n",
        "bike_data <- read_csv(file = \n",
        "\"https://raw.githubusercontent.com/MicrosoftDocs/ml-basics/master/data/daily-bike-share.csv\", \n",
        "show_col_types = FALSE)\n",
        "\n",
        "# Parse dates then extract days\n",
        "bike_data <- bike_data %>%\n",
        "  mutate(dteday = mdy(dteday)) %>% \n",
        "  mutate(day = day(dteday))\n",
        "\n",
        "# Select desired features and labels\n",
        "bike_select <- bike_data %>% \n",
        "  select(c(season, mnth, holiday, weekday, workingday, weathersit,\n",
        "           temp, atemp, hum, windspeed, rentals)) %>% \n",
        "  mutate(across(1:6, factor))\n",
        "\n",
        "# Split 70% of the data for training and the rest for tesing\n",
        "set.seed(2056)\n",
        "bike_split <- bike_select %>% \n",
        "  initial_split(prop = 0.7,\n",
        "  # splitting data evenly on the holiday variable\n",
        "                strata = holiday)\n",
        "\n",
        "# Extract the data in each split\n",
        "bike_train <- training(bike_split)\n",
        "bike_test <- testing(bike_split)\n",
        "\n",
        "# Specify multiple regression metrics\n",
        "eval_metrics <- metric_set(rmse, rsq)\n",
        "\n",
        "\n",
        "cat(\"Training Set\", nrow(bike_train), \"rows\",\n",
        "    \"\\nTest Set\", nrow(bike_test), \"rows\")"
      ]
    },
    {
      "cell_type": "markdown",
      "metadata": {},
      "source": [
        "This results into the following two datasets:\n",
        "\n",
        "-   *bike_train*: subset of the dataset used to train the model.\n",
        "\n",
        "-   *bike_test*: subset of the dataset used to validate the model.\n",
        "\n",
        "Now we're ready to train another regression model and a boosted tree model and then compare their performance.\n",
        "Recall that a Gradient Boosting estimator, is like a Random Forest algorithm, but instead of building them all trees independently and taking the average result, each tree is built on the outputs of the previous one in an attempt to incrementally reduce the *loss* (error) in the model."
      ]
    },
    {
      "cell_type": "code",
      "execution_count": 2,
      "metadata": {
        "vscode": {
          "languageId": "r"
        }
      },
      "outputs": [],
      "source": [
        "# Build a linear model specification\n",
        "lm_spec <- \n",
        "  # Type\n",
        "  linear_reg() %>% \n",
        "  # Engine\n",
        "  set_engine(\"lm\") %>% \n",
        "  # Mode\n",
        "  set_mode(\"regression\")"
      ]
    },
    {
      "cell_type": "markdown",
      "metadata": {},
      "source": [
        "### Preprocess the Data using recipes\n",
        "\n",
        "We trained a model with data that was loaded straight from a source file, with only moderately successful results.\n",
        "In practice, it's common to perform some preprocessing of the data to make it easier for the algorithm to fit a model to it.\n",
        "\n",
        "In this section, we'll explore another tidymodels package, [recipes](https://tidymodels.github.io/recipes/), which is designed to help you preprocess your data *before* training your model.\n",
        "A recipe is an object that defines a series of steps for data processing.\n",
        "\n",
        "There's a huge range of preprocessing transformations you can perform to get your data ready for modeling, but we'll limit ourselves to a few common techniques:\n",
        "\n",
        "#### Scaling numeric features\n",
        "\n",
        "Normalizing numeric features so they're on the same scale prevents features with large values from producing coefficients that disproportionately affect the predictions.\n",
        "For example, suppose your data includes the following numeric features:\n",
        "\n",
        "|  A  |  B  |  C  |\n",
        "|:---:|:---:|:---:|\n",
        "|  3  | 480 | 65  |\n",
        "\n",
        "Normalizing these features to the same scale may result in the following values (assuming A contains values from 0 to 10, B contains values from 0 to 1000, and C contains values from 0 to 100):\n",
        "\n",
        "|  A  |  B   |  C   |\n",
        "|:---:|:----:|:----:|\n",
        "| 0.3 | 0.48 | 0.65 |\n",
        "\n",
        "There are multiple ways you can scale numeric data, such as calculating the minimum and maximum values for each column and assigning a proportional value between 0 and 1, or by using the mean and standard deviation of a normally distributed variable to maintain the same *spread* of values on a different scale.\n",
        "\n",
        "#### Encoding categorical variables\n",
        "\n",
        "This involves translating a column with categorical values into one or more numeric columns that take the place of the original.\n",
        "\n",
        "Machine learning models work best with numeric features rather than text values, so you generally need to convert categorical features into numeric representations.\n",
        "For example, suppose your data includes the following categorical feature.\n",
        "\n",
        "| Size |\n",
        "|:----:|\n",
        "|  S   |\n",
        "|  M   |\n",
        "|  L   |\n",
        "\n",
        "You can apply *ordinal encoding* to substitute a unique integer value for each category, like this:\n",
        "\n",
        "| Size |\n",
        "|:----:|\n",
        "|  0   |\n",
        "|  1   |\n",
        "|  2   |\n",
        "\n",
        "Another common technique is to create *`dummy`* or`indicator variables` which replace the original categorical feature with numeric columns whose values are either 1 or 0.\n",
        "This can be shown as:\n",
        "\n",
        "| Raw Data |  M  |  L  |\n",
        "|:--------:|:---:|:---:|\n",
        "|    S     |  0  |  0  |\n",
        "|    M     |  1  |  0  |\n",
        "|    L     |  0  |  1  |\n",
        "\n",
        "In R, the convention is to *exclude* a column for the first factor level (`S`, in this case).\n",
        "The reasons for this include `simplicity` and reducing `linear dependencies`.\n",
        "The full set of encodings can also be used for some models.\n",
        "This is traditionally called the \"one-hot\" encoding and can be achieved using the `one_hot` argument of `step_dummy()`.\n",
        "\n",
        "> Tree based models created using the xgboost engine typically require one to create dummy variables.\n",
        "\n",
        "Now, let's bike forth and create some recipes ​🔪​**🚴!**"
      ]
    },
    {
      "cell_type": "code",
      "execution_count": 3,
      "metadata": {
        "vscode": {
          "languageId": "r"
        }
      },
      "outputs": [
        {
          "data": {
            "text/html": [
              "<table class=\"dataframe\">\n",
              "<caption>A tibble: 11 × 4</caption>\n",
              "<thead>\n",
              "\t<tr><th scope=col>variable</th><th scope=col>type</th><th scope=col>role</th><th scope=col>source</th></tr>\n",
              "\t<tr><th scope=col>&lt;chr&gt;</th><th scope=col>&lt;chr&gt;</th><th scope=col>&lt;chr&gt;</th><th scope=col>&lt;chr&gt;</th></tr>\n",
              "</thead>\n",
              "<tbody>\n",
              "\t<tr><td>season    </td><td>nominal</td><td>predictor</td><td>original</td></tr>\n",
              "\t<tr><td>mnth      </td><td>nominal</td><td>predictor</td><td>original</td></tr>\n",
              "\t<tr><td>holiday   </td><td>nominal</td><td>predictor</td><td>original</td></tr>\n",
              "\t<tr><td>weekday   </td><td>nominal</td><td>predictor</td><td>original</td></tr>\n",
              "\t<tr><td>workingday</td><td>nominal</td><td>predictor</td><td>original</td></tr>\n",
              "\t<tr><td>weathersit</td><td>nominal</td><td>predictor</td><td>original</td></tr>\n",
              "\t<tr><td>temp      </td><td>numeric</td><td>predictor</td><td>original</td></tr>\n",
              "\t<tr><td>atemp     </td><td>numeric</td><td>predictor</td><td>original</td></tr>\n",
              "\t<tr><td>hum       </td><td>numeric</td><td>predictor</td><td>original</td></tr>\n",
              "\t<tr><td>windspeed </td><td>numeric</td><td>predictor</td><td>original</td></tr>\n",
              "\t<tr><td>rentals   </td><td>numeric</td><td>outcome  </td><td>original</td></tr>\n",
              "</tbody>\n",
              "</table>\n"
            ],
            "text/latex": [
              "A tibble: 11 × 4\n",
              "\\begin{tabular}{llll}\n",
              " variable & type & role & source\\\\\n",
              " <chr> & <chr> & <chr> & <chr>\\\\\n",
              "\\hline\n",
              "\t season     & nominal & predictor & original\\\\\n",
              "\t mnth       & nominal & predictor & original\\\\\n",
              "\t holiday    & nominal & predictor & original\\\\\n",
              "\t weekday    & nominal & predictor & original\\\\\n",
              "\t workingday & nominal & predictor & original\\\\\n",
              "\t weathersit & nominal & predictor & original\\\\\n",
              "\t temp       & numeric & predictor & original\\\\\n",
              "\t atemp      & numeric & predictor & original\\\\\n",
              "\t hum        & numeric & predictor & original\\\\\n",
              "\t windspeed  & numeric & predictor & original\\\\\n",
              "\t rentals    & numeric & outcome   & original\\\\\n",
              "\\end{tabular}\n"
            ],
            "text/markdown": [
              "\n",
              "A tibble: 11 × 4\n",
              "\n",
              "| variable &lt;chr&gt; | type &lt;chr&gt; | role &lt;chr&gt; | source &lt;chr&gt; |\n",
              "|---|---|---|---|\n",
              "| season     | nominal | predictor | original |\n",
              "| mnth       | nominal | predictor | original |\n",
              "| holiday    | nominal | predictor | original |\n",
              "| weekday    | nominal | predictor | original |\n",
              "| workingday | nominal | predictor | original |\n",
              "| weathersit | nominal | predictor | original |\n",
              "| temp       | numeric | predictor | original |\n",
              "| atemp      | numeric | predictor | original |\n",
              "| hum        | numeric | predictor | original |\n",
              "| windspeed  | numeric | predictor | original |\n",
              "| rentals    | numeric | outcome   | original |\n",
              "\n"
            ],
            "text/plain": [
              "   variable   type    role      source  \n",
              "1  season     nominal predictor original\n",
              "2  mnth       nominal predictor original\n",
              "3  holiday    nominal predictor original\n",
              "4  weekday    nominal predictor original\n",
              "5  workingday nominal predictor original\n",
              "6  weathersit nominal predictor original\n",
              "7  temp       numeric predictor original\n",
              "8  atemp      numeric predictor original\n",
              "9  hum        numeric predictor original\n",
              "10 windspeed  numeric predictor original\n",
              "11 rentals    numeric outcome   original"
            ]
          },
          "metadata": {},
          "output_type": "display_data"
        }
      ],
      "source": [
        "# Create recipe\n",
        "lr_recipe <- recipe(rentals ~ ., data = bike_train) %>% \n",
        "  # Create indicator variables\n",
        "  step_dummy(all_nominal_predictors()) %>% \n",
        "  # Filter out zero variance predictors\n",
        "  step_nzv(all_predictors()) %>% \n",
        "  # Center and scale numeric predictors\n",
        "  step_normalize(all_numeric_predictors()) %>% \n",
        "  step_interact( ~ atemp:starts_with(\"weekday\"):starts_with(\"season\")) %>% \n",
        "# Reduce correlation among predictors\n",
        "  step_corr(all_numeric_predictors()) \n",
        "\n",
        "\n",
        "\n",
        "# Summary of the recipe\n",
        "summary(lr_recipe)"
      ]
    },
    {
      "cell_type": "code",
      "execution_count": 4,
      "metadata": {
        "vscode": {
          "languageId": "r"
        }
      },
      "outputs": [
        {
          "data": {
            "image/png": "[encoded data removed]",
            "text/plain": [
              "plot without title"
            ]
          },
          "metadata": {
            "image/png": {
              "height": 420,
              "width": 420
            }
          },
          "output_type": "display_data"
        }
      ],
      "source": [
        "# Explore interactions\n",
        "bike_train %>% \n",
        "  ggplot(mapping = aes(x = atemp, y = rentals)) +\n",
        "  geom_point(alpha = 0.5) +\n",
        "  geom_smooth(method = lm, formula = y ~ x, se = FALSE, color = \"lightblue\") + \n",
        "  \n",
        "  facet_wrap(vars(season, weekday))"
      ]
    },
    {
      "cell_type": "code",
      "execution_count": 26,
      "metadata": {
        "vscode": {
          "languageId": "r"
        }
      },
      "outputs": [
        {
          "data": {
            "text/plain": [
              "Recipe\n",
              "\n",
              "Inputs:\n",
              "\n",
              "      role #variables\n",
              "   outcome          1\n",
              " predictor         10\n",
              "\n",
              "Operations:\n",
              "\n",
              "Dummy variables from all_nominal_predictors()\n",
              "Sparse, unbalanced variable filter on all_predictors()\n",
              "Centering and scaling for all_numeric_predictors()\n",
              "Interactions with atemp:starts_with(\"weekday\"):starts_with(\"season\")\n",
              "Correlation filter on all_numeric_predictors()"
            ]
          },
          "metadata": {},
          "output_type": "display_data"
        }
      ],
      "source": [
        "lr_recipe"
      ]
    },
    {
      "cell_type": "markdown",
      "metadata": {},
      "source": [
        "### Bundling it all together using a workflow\n",
        "\n",
        "The [**workflows**](https://workflows.tidymodels.org/) package allows the user to bind modeling and preprocessing objects together.\n",
        "You can then fit the entire workflow to the data, so that the model encapsulates all of the preprocessing steps as well as the algorithm."
      ]
    },
    {
      "cell_type": "code",
      "execution_count": 5,
      "metadata": {
        "vscode": {
          "languageId": "r"
        }
      },
      "outputs": [
        {
          "data": {
            "text/plain": [
              "== Workflow ====================================================================\n",
              "\u001b[3mPreprocessor:\u001b[23m Recipe\n",
              "\u001b[3mModel:\u001b[23m linear_reg()\n",
              "\n",
              "-- Preprocessor ----------------------------------------------------------------\n",
              "5 Recipe Steps\n",
              "\n",
              "* step_dummy()\n",
              "* step_nzv()\n",
              "* step_normalize()\n",
              "* step_interact()\n",
              "* step_corr()\n",
              "\n",
              "-- Model -----------------------------------------------------------------------\n",
              "Linear Regression Model Specification (regression)\n",
              "\n",
              "Computational engine: lm \n"
            ]
          },
          "metadata": {},
          "output_type": "display_data"
        }
      ],
      "source": [
        "# Workflow \n",
        "lr_wf <- workflow() %>% \n",
        "  add_recipe(lr_recipe) %>% \n",
        "  add_model(lm_spec)\n",
        "\n",
        "lr_wf"
      ]
    },
    {
      "cell_type": "markdown",
      "metadata": {},
      "source": [
        "## Evaluating model performance using resamples\n",
        "\n",
        "\n",
        "\n",
        "If the test set should not be used immediately, and repredicting the training set is a bad idea, what should be done? Resampling methods, such as cross-validation or validation sets, are the solution.\n",
        "\n",
        "\n",
        "Resampling estimates of performance can generalize to new data in a similar way as estimates from a test set.\n",
        "\n",
        "Cross-validation involves taking your training set and randomly dividing it up evenly into V subsets/folds. You then use one of the folds for validation and the rest for training, then you repeat these steps with all the subsets and combine the results, usually by taking the mean. This is just one round of cross-validation. Sometimes, to obtain better results, data scientists do this more than once, perhaps 5 times."
      ]
    },
    {
      "cell_type": "code",
      "execution_count": 6,
      "metadata": {
        "vscode": {
          "languageId": "r"
        }
      },
      "outputs": [],
      "source": [
        "set.seed(2056)\n",
        "# 5 fold CV repeated once\n",
        "bike_folds <- vfold_cv(data = bike_train, v = 5, repeats = 1)"
      ]
    },
    {
      "cell_type": "markdown",
      "metadata": {},
      "source": [
        "Now with the resamples, we can evaluate how the linear_regression workflow would perform by fitting it across multiple rounds of resampled data"
      ]
    },
    {
      "cell_type": "code",
      "execution_count": 7,
      "metadata": {
        "vscode": {
          "languageId": "r"
        }
      },
      "outputs": [
        {
          "data": {
            "text/html": [
              "<table class=\"dataframe\">\n",
              "<caption>A tibble: 2 × 6</caption>\n",
              "<thead>\n",
              "\t<tr><th scope=col>.metric</th><th scope=col>.estimator</th><th scope=col>mean</th><th scope=col>n</th><th scope=col>std_err</th><th scope=col>.config</th></tr>\n",
              "\t<tr><th scope=col>&lt;chr&gt;</th><th scope=col>&lt;chr&gt;</th><th scope=col>&lt;dbl&gt;</th><th scope=col>&lt;int&gt;</th><th scope=col>&lt;dbl&gt;</th><th scope=col>&lt;chr&gt;</th></tr>\n",
              "</thead>\n",
              "<tbody>\n",
              "\t<tr><td>rmse</td><td>standard</td><td>409.6016146</td><td>5</td><td>22.93880294</td><td>Preprocessor1_Model1</td></tr>\n",
              "\t<tr><td>rsq </td><td>standard</td><td>  0.6446555</td><td>5</td><td> 0.02692859</td><td>Preprocessor1_Model1</td></tr>\n",
              "</tbody>\n",
              "</table>\n"
            ],
            "text/latex": [
              "A tibble: 2 × 6\n",
              "\\begin{tabular}{llllll}\n",
              " .metric & .estimator & mean & n & std\\_err & .config\\\\\n",
              " <chr> & <chr> & <dbl> & <int> & <dbl> & <chr>\\\\\n",
              "\\hline\n",
              "\t rmse & standard & 409.6016146 & 5 & 22.93880294 & Preprocessor1\\_Model1\\\\\n",
              "\t rsq  & standard &   0.6446555 & 5 &  0.02692859 & Preprocessor1\\_Model1\\\\\n",
              "\\end{tabular}\n"
            ],
            "text/markdown": [
              "\n",
              "A tibble: 2 × 6\n",
              "\n",
              "| .metric &lt;chr&gt; | .estimator &lt;chr&gt; | mean &lt;dbl&gt; | n &lt;int&gt; | std_err &lt;dbl&gt; | .config &lt;chr&gt; |\n",
              "|---|---|---|---|---|---|\n",
              "| rmse | standard | 409.6016146 | 5 | 22.93880294 | Preprocessor1_Model1 |\n",
              "| rsq  | standard |   0.6446555 | 5 |  0.02692859 | Preprocessor1_Model1 |\n",
              "\n"
            ],
            "text/plain": [
              "  .metric .estimator mean        n std_err     .config             \n",
              "1 rmse    standard   409.6016146 5 22.93880294 Preprocessor1_Model1\n",
              "2 rsq     standard     0.6446555 5  0.02692859 Preprocessor1_Model1"
            ]
          },
          "metadata": {},
          "output_type": "display_data"
        }
      ],
      "source": [
        "# Instruct resampling to save the results for each run\n",
        "ctrl_bike <- control_resamples(save_pred = TRUE)\n",
        "\n",
        "# Fit models via resampling\n",
        "bike_res <- fit_resamples(lr_wf, bike_folds, control = ctrl_bike)\n",
        "\n",
        "# Save resample predictions\n",
        "lr_bike_preds <- collect_predictions(bike_res)\n",
        "\n",
        "# Collect resample metrics\n",
        "bike_res %>% \n",
        "  collect_metrics()"
      ]
    },
    {
      "cell_type": "markdown",
      "metadata": {},
      "source": [
        "We can reliably measure performance using only the training data 🎉"
      ]
    },
    {
      "cell_type": "code",
      "execution_count": 8,
      "metadata": {
        "vscode": {
          "languageId": "r"
        }
      },
      "outputs": [
        {
          "data": {
            "image/png": "[encoded data removed]",
            "text/plain": [
              "plot without title"
            ]
          },
          "metadata": {
            "image/png": {
              "height": 420,
              "width": 420
            }
          },
          "output_type": "display_data"
        }
      ],
      "source": [
        "# Visualise resampled results\n",
        "lr_bike_preds %>% \n",
        "  ggplot(aes(x = rentals, y = .pred)) + \n",
        "  geom_point(alpha = .15) +\n",
        "  geom_abline(color = \"dodgerblue\") + \n",
        "  coord_obs_pred() + \n",
        "  ylab(\"Predicted\") +\n",
        "  theme_light()"
      ]
    },
    {
      "cell_type": "code",
      "execution_count": 9,
      "metadata": {
        "vscode": {
          "languageId": "r"
        }
      },
      "outputs": [],
      "source": [
        "## Ideally don't run this.\n",
        "## This is just to prove that with a little preprocessing,\n",
        "## we can get better modeling results\n",
        "\n",
        "# Last fit on lr\n",
        "# lf = lr_wf %>% \n",
        "#     last_fit(bike_split)\n",
        "\n",
        "# lf %>% \n",
        "#     collect_metrics()"
      ]
    },
    {
      "cell_type": "markdown",
      "metadata": {},
      "source": [
        "## Let's try out an xgboost model too"
      ]
    },
    {
      "cell_type": "markdown",
      "metadata": {},
      "source": [
        "\n",
        "Let's first address a more pressing issue; a boosted tree's hyperparameters:"
      ]
    },
    {
      "cell_type": "code",
      "execution_count": 17,
      "metadata": {
        "vscode": {
          "languageId": "r"
        }
      },
      "outputs": [
        {
          "data": {
            "text/html": [
              "<pre class=language-r><code>function (mode = \"unknown\", engine = \"xgboost\", mtry = NULL, \n",
              "<span style=white-space:pre-wrap>    trees = NULL, min_n = NULL, tree_depth = NULL, learn_rate = NULL, </span>\n",
              "<span style=white-space:pre-wrap>    loss_reduction = NULL, sample_size = NULL, stop_iter = NULL) </span>\n",
              "NULL</code></pre>"
            ],
            "text/latex": [
              "\\begin{minted}{r}\n",
              "function (mode = \"unknown\", engine = \"xgboost\", mtry = NULL, \n",
              "    trees = NULL, min\\_n = NULL, tree\\_depth = NULL, learn\\_rate = NULL, \n",
              "    loss\\_reduction = NULL, sample\\_size = NULL, stop\\_iter = NULL) \n",
              "NULL\n",
              "\\end{minted}"
            ],
            "text/markdown": [
              "```r\n",
              "function (mode = \"unknown\", engine = \"xgboost\", mtry = NULL, \n",
              "    trees = NULL, min_n = NULL, tree_depth = NULL, learn_rate = NULL, \n",
              "    loss_reduction = NULL, sample_size = NULL, stop_iter = NULL) \n",
              "NULL\n",
              "```"
            ],
            "text/plain": [
              "function (mode = \"unknown\", engine = \"xgboost\", mtry = NULL, \n",
              "    trees = NULL, min_n = NULL, tree_depth = NULL, learn_rate = NULL, \n",
              "    loss_reduction = NULL, sample_size = NULL, stop_iter = NULL) \n",
              "NULL"
            ]
          },
          "metadata": {},
          "output_type": "display_data"
        }
      ],
      "source": [
        "args(boost_tree)"
      ]
    },
    {
      "cell_type": "markdown",
      "metadata": {},
      "source": [
        "Those are a lot of model arguments: `mtry`, `trees`, `min_n`, `tree_depth`, `learn_rate`, `loss_reduction`, `sample_size`, `stop_iter` 🤯🤯!\n",
        "\n",
        "Now, this begs the question:\n",
        "\n",
        "how do we know what values we should use?�\n",
        "���\n",
        "\n",
        "This brings us to `model tuning`.\n",
        "\n",
        "### Tune model hyperparameters\n",
        "\n",
        "Models have parameters with unknown values that must be estimated in order to use the model for predicting.\n",
        "These model parameters, correctly referred to as **hyperparameters** or **tuning parameters**, cannot be learned directly from a dataset during model training.\n",
        "Instead of learning these kinds of hyperparameters during model training, we can *estimate* the *best values* for these by training many models on a `simulated data set` and measuring how well all these models perform.\n",
        "This process is called **tuning**.\n",
        "\n",
        "We won't go into the details of each hyperparameter, but they work together to affect the way the algorithm trains a model.\n",
        "For instance in boosted trees,\n",
        "\n",
        "-   `min_n` forces the tree to discard any node that has a number of observations below your specified minimum.\n",
        "\n",
        "-   tuning the value of `mtry` controls the number of variables that will be used at each split of a decision tree.\n",
        "\n",
        "-   tuning `tree_depth`, on the other hand, helps by restricting our tree from growing after it reaches a certain level.\n",
        "\n",
        "In many cases, the default values provided by Tidymodels will work well (see the defaults by running `help(\"boost_tree\")` ); but there may be some advantage in modifying hyperparameters to get better predictive performance or reduce training time.\n",
        "\n",
        "So how do you know what hyperparameter values you should use?\n",
        "Well, in the absence of a deep understanding of how the underlying algorithm works, you'll need to experiment.\n",
        "Fortunately, Tidymodels provides a way to *tune* hyperparameters by trying multiple combinations and finding the best result for a given performance metric.\n",
        "\n",
        "#### Identify tuning parameters.\n",
        "\n",
        "How can we signal to tidymodels functions which arguments (in our case `cost_complexity`, `tree_depth`, `min_n`) should be optimized?\n",
        "Parameters are marked for tuning by assigning them a value of `tune()`.\n",
        "\n",
        "Next let's build our model specification with some tuning and then put our recipe and model specification together in a **`workflow()`**, for ease of use."
      ]
    },
    {
      "cell_type": "code",
      "execution_count": 11,
      "metadata": {
        "vscode": {
          "languageId": "r"
        }
      },
      "outputs": [
        {
          "data": {
            "text/plain": [
              "== Workflow ====================================================================\n",
              "\u001b[3mPreprocessor:\u001b[23m Recipe\n",
              "\u001b[3mModel:\u001b[23m boost_tree()\n",
              "\n",
              "-- Preprocessor ----------------------------------------------------------------\n",
              "2 Recipe Steps\n",
              "\n",
              "* step_normalize()\n",
              "* step_dummy()\n",
              "\n",
              "-- Model -----------------------------------------------------------------------\n",
              "Boosted Tree Model Specification (regression)\n",
              "\n",
              "Main Arguments:\n",
              "  trees = 50\n",
              "  tree_depth = tune()\n",
              "  learn_rate = tune()\n",
              "\n",
              "Computational engine: xgboost \n"
            ]
          },
          "metadata": {},
          "output_type": "display_data"
        }
      ],
      "source": [
        "# Make a tunable model specification\n",
        "boost_spec <- boost_tree(trees = 50,\n",
        "                         tree_depth = tune(),\n",
        "                         learn_rate = tune()) %>% \n",
        "  set_engine('xgboost') %>% \n",
        "  set_mode('regression')\n",
        "\n",
        "\n",
        "# Specify a recipe\n",
        "bike_recipe <- recipe(rentals ~ ., data = bike_train) %>% \n",
        "  step_normalize(all_numeric_predictors()) %>% \n",
        "  step_dummy(all_nominal_predictors(), one_hot = TRUE) \n",
        "\n",
        "\n",
        "# Bundle a recipe and model spec using a workflow\n",
        "boost_workflow <- workflow() %>% \n",
        "  add_recipe(bike_recipe) %>% \n",
        "  add_model(boost_spec)\n",
        "\n",
        "# Print workflow\n",
        "boost_workflow"
      ]
    },
    {
      "cell_type": "markdown",
      "metadata": {},
      "source": [
        "#### Create a tuning grid.\n",
        "\n",
        "Good job!\n",
        "Now that we have specified what parameter to tune, we'll need to figure out a set of possible values to try out then choose the best."
      ]
    },
    {
      "cell_type": "code",
      "execution_count": 12,
      "metadata": {
        "vscode": {
          "languageId": "r"
        }
      },
      "outputs": [
        {
          "data": {
            "text/html": [
              "<table class=\"dataframe\">\n",
              "<caption>A tibble: 25 × 2</caption>\n",
              "<thead>\n",
              "\t<tr><th scope=col>tree_depth</th><th scope=col>learn_rate</th></tr>\n",
              "\t<tr><th scope=col>&lt;int&gt;</th><th scope=col>&lt;dbl&gt;</th></tr>\n",
              "</thead>\n",
              "<tbody>\n",
              "\t<tr><td> 1</td><td>0.0100</td></tr>\n",
              "\t<tr><td> 4</td><td>0.0100</td></tr>\n",
              "\t<tr><td> 8</td><td>0.0100</td></tr>\n",
              "\t<tr><td>11</td><td>0.0100</td></tr>\n",
              "\t<tr><td>15</td><td>0.0100</td></tr>\n",
              "\t<tr><td> 1</td><td>0.0825</td></tr>\n",
              "\t<tr><td> 4</td><td>0.0825</td></tr>\n",
              "\t<tr><td> 8</td><td>0.0825</td></tr>\n",
              "\t<tr><td>11</td><td>0.0825</td></tr>\n",
              "\t<tr><td>15</td><td>0.0825</td></tr>\n",
              "\t<tr><td> 1</td><td>0.1550</td></tr>\n",
              "\t<tr><td> 4</td><td>0.1550</td></tr>\n",
              "\t<tr><td> 8</td><td>0.1550</td></tr>\n",
              "\t<tr><td>11</td><td>0.1550</td></tr>\n",
              "\t<tr><td>15</td><td>0.1550</td></tr>\n",
              "\t<tr><td> 1</td><td>0.2275</td></tr>\n",
              "\t<tr><td> 4</td><td>0.2275</td></tr>\n",
              "\t<tr><td> 8</td><td>0.2275</td></tr>\n",
              "\t<tr><td>11</td><td>0.2275</td></tr>\n",
              "\t<tr><td>15</td><td>0.2275</td></tr>\n",
              "\t<tr><td> 1</td><td>0.3000</td></tr>\n",
              "\t<tr><td> 4</td><td>0.3000</td></tr>\n",
              "\t<tr><td> 8</td><td>0.3000</td></tr>\n",
              "\t<tr><td>11</td><td>0.3000</td></tr>\n",
              "\t<tr><td>15</td><td>0.3000</td></tr>\n",
              "</tbody>\n",
              "</table>\n"
            ],
            "text/latex": [
              "A tibble: 25 × 2\n",
              "\\begin{tabular}{ll}\n",
              " tree\\_depth & learn\\_rate\\\\\n",
              " <int> & <dbl>\\\\\n",
              "\\hline\n",
              "\t  1 & 0.0100\\\\\n",
              "\t  4 & 0.0100\\\\\n",
              "\t  8 & 0.0100\\\\\n",
              "\t 11 & 0.0100\\\\\n",
              "\t 15 & 0.0100\\\\\n",
              "\t  1 & 0.0825\\\\\n",
              "\t  4 & 0.0825\\\\\n",
              "\t  8 & 0.0825\\\\\n",
              "\t 11 & 0.0825\\\\\n",
              "\t 15 & 0.0825\\\\\n",
              "\t  1 & 0.1550\\\\\n",
              "\t  4 & 0.1550\\\\\n",
              "\t  8 & 0.1550\\\\\n",
              "\t 11 & 0.1550\\\\\n",
              "\t 15 & 0.1550\\\\\n",
              "\t  1 & 0.2275\\\\\n",
              "\t  4 & 0.2275\\\\\n",
              "\t  8 & 0.2275\\\\\n",
              "\t 11 & 0.2275\\\\\n",
              "\t 15 & 0.2275\\\\\n",
              "\t  1 & 0.3000\\\\\n",
              "\t  4 & 0.3000\\\\\n",
              "\t  8 & 0.3000\\\\\n",
              "\t 11 & 0.3000\\\\\n",
              "\t 15 & 0.3000\\\\\n",
              "\\end{tabular}\n"
            ],
            "text/markdown": [
              "\n",
              "A tibble: 25 × 2\n",
              "\n",
              "| tree_depth &lt;int&gt; | learn_rate &lt;dbl&gt; |\n",
              "|---|---|\n",
              "|  1 | 0.0100 |\n",
              "|  4 | 0.0100 |\n",
              "|  8 | 0.0100 |\n",
              "| 11 | 0.0100 |\n",
              "| 15 | 0.0100 |\n",
              "|  1 | 0.0825 |\n",
              "|  4 | 0.0825 |\n",
              "|  8 | 0.0825 |\n",
              "| 11 | 0.0825 |\n",
              "| 15 | 0.0825 |\n",
              "|  1 | 0.1550 |\n",
              "|  4 | 0.1550 |\n",
              "|  8 | 0.1550 |\n",
              "| 11 | 0.1550 |\n",
              "| 15 | 0.1550 |\n",
              "|  1 | 0.2275 |\n",
              "|  4 | 0.2275 |\n",
              "|  8 | 0.2275 |\n",
              "| 11 | 0.2275 |\n",
              "| 15 | 0.2275 |\n",
              "|  1 | 0.3000 |\n",
              "|  4 | 0.3000 |\n",
              "|  8 | 0.3000 |\n",
              "| 11 | 0.3000 |\n",
              "| 15 | 0.3000 |\n",
              "\n"
            ],
            "text/plain": [
              "   tree_depth learn_rate\n",
              "1   1         0.0100    \n",
              "2   4         0.0100    \n",
              "3   8         0.0100    \n",
              "4  11         0.0100    \n",
              "5  15         0.0100    \n",
              "6   1         0.0825    \n",
              "7   4         0.0825    \n",
              "8   8         0.0825    \n",
              "9  11         0.0825    \n",
              "10 15         0.0825    \n",
              "11  1         0.1550    \n",
              "12  4         0.1550    \n",
              "13  8         0.1550    \n",
              "14 11         0.1550    \n",
              "15 15         0.1550    \n",
              "16  1         0.2275    \n",
              "17  4         0.2275    \n",
              "18  8         0.2275    \n",
              "19 11         0.2275    \n",
              "20 15         0.2275    \n",
              "21  1         0.3000    \n",
              "22  4         0.3000    \n",
              "23  8         0.3000    \n",
              "24 11         0.3000    \n",
              "25 15         0.3000    "
            ]
          },
          "metadata": {},
          "output_type": "display_data"
        }
      ],
      "source": [
        "# Create a grid of tuning parameters\n",
        "tree_grid <- grid_regular(tree_depth(),\n",
        "                  # You can specify hyperparameter ranges too\n",
        "learn_rate(range = c(0.01, 0.3), trans = NULL), levels = 5)\n",
        "\n",
        "# Display hyperparameter combinations that will be used for tuning\n",
        "tree_grid"
      ]
    },
    {
      "cell_type": "markdown",
      "metadata": {},
      "source": [
        "The function [`grid_regular()`](https://tidymodels.github.io/dials/reference/grid_regular.html) chooses sensible values to try for each hyperparameter; here, we asked for 5 of each.\n",
        "Since we have two hyperparameters to tune, `grid_regular()` returns 5×5 = 25 different possible tuning combinations to try in a tidy tibble format.\n",
        "\n",
        "#### Let's sample our data.\n",
        "\n",
        "As we pointed out earlier, hyperparameters cannot be learned directly from the training set.\n",
        "Instead, they are estimated using simulated data sets created from a process called resampling.\n",
        "One resampling approach is `cross-validation`.\n",
        "\n",
        "Cross-validation involves taking your training set and randomly dividing it up evenly into `V` subsets/folds.\n",
        "You then use one of the folds for validation and the rest for training, then you repeat these steps with all the subsets and combine the results, usually by taking the mean.\n",
        "This is just one round of cross-validation.\n",
        "Sometimes, to obtain better results, data scientists do this more than once, perhaps 5 times."
      ]
    },
    {
      "cell_type": "code",
      "execution_count": 22,
      "metadata": {
        "vscode": {
          "languageId": "r"
        }
      },
      "outputs": [],
      "source": [
        "set.seed(2056)\n",
        "# 5 fold CV repeated once\n",
        "bike_folds <- vfold_cv(data = bike_train, v = 5, repeats = 1)"
      ]
    },
    {
      "cell_type": "markdown",
      "metadata": {},
      "source": [
        "#### Time to tune\n",
        "\n",
        "Now, it's time to tune the grid to find out which hyperparameter combination results in the best performance."
      ]
    },
    {
      "cell_type": "code",
      "execution_count": 13,
      "metadata": {
        "vscode": {
          "languageId": "r"
        }
      },
      "outputs": [],
      "source": [
        "# Allow parallel processing\n",
        "doParallel::registerDoParallel()\n",
        "\n",
        "# Model tuning via grid search\n",
        "set.seed(2020)\n",
        "tree_grid <- tune_grid(\n",
        "  object = boost_workflow,\n",
        "  resamples = bike_folds,\n",
        "  grid = tree_grid\n",
        ")"
      ]
    },
    {
      "cell_type": "markdown",
      "metadata": {},
      "source": [
        "#### Visualize tuning results\n",
        "\n",
        "Now that we have trained models for many possible hyperparameter values, let's explore the results.\n",
        "\n",
        "As a first step, we'll use the function **`collect_metrics()`** to extract the performance metrics from the tuning results."
      ]
    },
    {
      "cell_type": "code",
      "execution_count": 14,
      "metadata": {
        "vscode": {
          "languageId": "r"
        }
      },
      "outputs": [
        {
          "data": {
            "image/png": "[encoded data removed]",
            "text/plain": [
              "plot without title"
            ]
          },
          "metadata": {
            "image/png": {
              "height": 420,
              "width": 420
            }
          },
          "output_type": "display_data"
        }
      ],
      "source": [
        "# Visualize the results\n",
        "tree_grid %>% \n",
        "  collect_metrics() %>% \n",
        "  mutate(tree_depth = factor(tree_depth)) %>% \n",
        "  ggplot(mapping = aes(x = learn_rate, y = mean,\n",
        "                       color = tree_depth)) +\n",
        "  geom_line(size = 0.6) +\n",
        "  geom_point(size = 2) +\n",
        "  facet_wrap(~ .metric, scales = 'free', nrow = 2)+\n",
        "  scale_color_viridis_d(option = \"plasma\", begin = .9, end = 0)"
      ]
    },
    {
      "cell_type": "markdown",
      "metadata": {},
      "source": [
        "We can see that our \"stubbiest\" tree, with a depth of 1, is the worst model according to both metrics (rmse, rsq) and across all candidate values of `learn_rate`.\n",
        "A tree depth of 4 and a learn_rate of around 0.1 seems to do the trick!\n",
        "Let's investigate these tuning parameters further.\n",
        "We can use `show_best()` to display the top sub-models and their performance estimates."
      ]
    },
    {
      "cell_type": "code",
      "execution_count": 16,
      "metadata": {
        "vscode": {
          "languageId": "r"
        }
      },
      "outputs": [
        {
          "data": {
            "text/html": [
              "<table class=\"dataframe\">\n",
              "<caption>A tibble: 5 × 8</caption>\n",
              "<thead>\n",
              "\t<tr><th scope=col>tree_depth</th><th scope=col>learn_rate</th><th scope=col>.metric</th><th scope=col>.estimator</th><th scope=col>mean</th><th scope=col>n</th><th scope=col>std_err</th><th scope=col>.config</th></tr>\n",
              "\t<tr><th scope=col>&lt;int&gt;</th><th scope=col>&lt;dbl&gt;</th><th scope=col>&lt;chr&gt;</th><th scope=col>&lt;chr&gt;</th><th scope=col>&lt;dbl&gt;</th><th scope=col>&lt;int&gt;</th><th scope=col>&lt;dbl&gt;</th><th scope=col>&lt;chr&gt;</th></tr>\n",
              "</thead>\n",
              "<tbody>\n",
              "\t<tr><td>4</td><td>0.0825</td><td>rmse</td><td>standard</td><td>353.9447</td><td>5</td><td>19.79369</td><td>Preprocessor1_Model07</td></tr>\n",
              "\t<tr><td>4</td><td>0.1550</td><td>rmse</td><td>standard</td><td>354.1398</td><td>5</td><td>19.43109</td><td>Preprocessor1_Model12</td></tr>\n",
              "\t<tr><td>4</td><td>0.2275</td><td>rmse</td><td>standard</td><td>364.0215</td><td>5</td><td>16.75086</td><td>Preprocessor1_Model17</td></tr>\n",
              "\t<tr><td>4</td><td>0.3000</td><td>rmse</td><td>standard</td><td>366.0967</td><td>5</td><td>14.21286</td><td>Preprocessor1_Model22</td></tr>\n",
              "\t<tr><td>8</td><td>0.0825</td><td>rmse</td><td>standard</td><td>375.4801</td><td>5</td><td>19.50562</td><td>Preprocessor1_Model08</td></tr>\n",
              "</tbody>\n",
              "</table>\n"
            ],
            "text/latex": [
              "A tibble: 5 × 8\n",
              "\\begin{tabular}{llllllll}\n",
              " tree\\_depth & learn\\_rate & .metric & .estimator & mean & n & std\\_err & .config\\\\\n",
              " <int> & <dbl> & <chr> & <chr> & <dbl> & <int> & <dbl> & <chr>\\\\\n",
              "\\hline\n",
              "\t 4 & 0.0825 & rmse & standard & 353.9447 & 5 & 19.79369 & Preprocessor1\\_Model07\\\\\n",
              "\t 4 & 0.1550 & rmse & standard & 354.1398 & 5 & 19.43109 & Preprocessor1\\_Model12\\\\\n",
              "\t 4 & 0.2275 & rmse & standard & 364.0215 & 5 & 16.75086 & Preprocessor1\\_Model17\\\\\n",
              "\t 4 & 0.3000 & rmse & standard & 366.0967 & 5 & 14.21286 & Preprocessor1\\_Model22\\\\\n",
              "\t 8 & 0.0825 & rmse & standard & 375.4801 & 5 & 19.50562 & Preprocessor1\\_Model08\\\\\n",
              "\\end{tabular}\n"
            ],
            "text/markdown": [
              "\n",
              "A tibble: 5 × 8\n",
              "\n",
              "| tree_depth &lt;int&gt; | learn_rate &lt;dbl&gt; | .metric &lt;chr&gt; | .estimator &lt;chr&gt; | mean &lt;dbl&gt; | n &lt;int&gt; | std_err &lt;dbl&gt; | .config &lt;chr&gt; |\n",
              "|---|---|---|---|---|---|---|---|\n",
              "| 4 | 0.0825 | rmse | standard | 353.9447 | 5 | 19.79369 | Preprocessor1_Model07 |\n",
              "| 4 | 0.1550 | rmse | standard | 354.1398 | 5 | 19.43109 | Preprocessor1_Model12 |\n",
              "| 4 | 0.2275 | rmse | standard | 364.0215 | 5 | 16.75086 | Preprocessor1_Model17 |\n",
              "| 4 | 0.3000 | rmse | standard | 366.0967 | 5 | 14.21286 | Preprocessor1_Model22 |\n",
              "| 8 | 0.0825 | rmse | standard | 375.4801 | 5 | 19.50562 | Preprocessor1_Model08 |\n",
              "\n"
            ],
            "text/plain": [
              "  tree_depth learn_rate .metric .estimator mean     n std_err \n",
              "1 4          0.0825     rmse    standard   353.9447 5 19.79369\n",
              "2 4          0.1550     rmse    standard   354.1398 5 19.43109\n",
              "3 4          0.2275     rmse    standard   364.0215 5 16.75086\n",
              "4 4          0.3000     rmse    standard   366.0967 5 14.21286\n",
              "5 8          0.0825     rmse    standard   375.4801 5 19.50562\n",
              "  .config              \n",
              "1 Preprocessor1_Model07\n",
              "2 Preprocessor1_Model12\n",
              "3 Preprocessor1_Model17\n",
              "4 Preprocessor1_Model22\n",
              "5 Preprocessor1_Model08"
            ]
          },
          "metadata": {},
          "output_type": "display_data"
        }
      ],
      "source": [
        "tree_grid %>% \n",
        "  show_best('rmse')"
      ]
    },
    {
      "cell_type": "markdown",
      "metadata": {},
      "source": [
        "We can then use `select_best()` to find the tuning parameter combination with the best performance values.\n",
        "\n",
        "We can then use `select_best()` to find the tuning parameter combination with the best performance values."
      ]
    },
    {
      "cell_type": "code",
      "execution_count": 17,
      "metadata": {
        "vscode": {
          "languageId": "r"
        }
      },
      "outputs": [
        {
          "data": {
            "text/html": [
              "<table class=\"dataframe\">\n",
              "<caption>A tibble: 1 × 3</caption>\n",
              "<thead>\n",
              "\t<tr><th scope=col>tree_depth</th><th scope=col>learn_rate</th><th scope=col>.config</th></tr>\n",
              "\t<tr><th scope=col>&lt;int&gt;</th><th scope=col>&lt;dbl&gt;</th><th scope=col>&lt;chr&gt;</th></tr>\n",
              "</thead>\n",
              "<tbody>\n",
              "\t<tr><td>4</td><td>0.0825</td><td>Preprocessor1_Model07</td></tr>\n",
              "</tbody>\n",
              "</table>\n"
            ],
            "text/latex": [
              "A tibble: 1 × 3\n",
              "\\begin{tabular}{lll}\n",
              " tree\\_depth & learn\\_rate & .config\\\\\n",
              " <int> & <dbl> & <chr>\\\\\n",
              "\\hline\n",
              "\t 4 & 0.0825 & Preprocessor1\\_Model07\\\\\n",
              "\\end{tabular}\n"
            ],
            "text/markdown": [
              "\n",
              "A tibble: 1 × 3\n",
              "\n",
              "| tree_depth &lt;int&gt; | learn_rate &lt;dbl&gt; | .config &lt;chr&gt; |\n",
              "|---|---|---|\n",
              "| 4 | 0.0825 | Preprocessor1_Model07 |\n",
              "\n"
            ],
            "text/plain": [
              "  tree_depth learn_rate .config              \n",
              "1 4          0.0825     Preprocessor1_Model07"
            ]
          },
          "metadata": {},
          "output_type": "display_data"
        }
      ],
      "source": [
        "# Select the tree with the best RMSE\n",
        "best_tree <- tree_grid %>% \n",
        "  select_best('rmse')\n",
        "\n",
        "# Display best tree\n",
        "best_tree"
      ]
    },
    {
      "cell_type": "markdown",
      "metadata": {},
      "source": [
        "Compared with the linear regression model, the boosted trees model seems to be performing better. Let's go ahead with it.\n",
        "\n",
        "We have used resamples to compare and evealuate models and narrow down on which one we'll use in the train and test sets. Let's finalize the boosted trees model."
      ]
    },
    {
      "cell_type": "markdown",
      "metadata": {},
      "source": [
        "### Finalizing our model\n",
        "\n",
        "Now that we have the best performance values, we can use `tune::finalize_workflow()` to update (or \"finalize\") our workflow object with the best estimate values for tree_depth and learn_rate."
      ]
    },
    {
      "cell_type": "code",
      "execution_count": 18,
      "metadata": {
        "vscode": {
          "languageId": "r"
        }
      },
      "outputs": [
        {
          "data": {
            "text/plain": [
              "== Workflow ====================================================================\n",
              "\u001b[3mPreprocessor:\u001b[23m Recipe\n",
              "\u001b[3mModel:\u001b[23m boost_tree()\n",
              "\n",
              "-- Preprocessor ----------------------------------------------------------------\n",
              "2 Recipe Steps\n",
              "\n",
              "* step_normalize()\n",
              "* step_dummy()\n",
              "\n",
              "-- Model -----------------------------------------------------------------------\n",
              "Boosted Tree Model Specification (regression)\n",
              "\n",
              "Main Arguments:\n",
              "  trees = 50\n",
              "  tree_depth = 4\n",
              "  learn_rate = 0.0825\n",
              "\n",
              "Computational engine: xgboost \n"
            ]
          },
          "metadata": {},
          "output_type": "display_data"
        }
      ],
      "source": [
        "# Update workflow\n",
        "final_wf <- boost_workflow %>% \n",
        "  finalize_workflow(best_tree)\n",
        "\n",
        "# Print final workflow\n",
        "final_wf"
      ]
    },
    {
      "cell_type": "markdown",
      "metadata": {},
      "source": [
        "Our tuning is done!\n",
        "🥳 We have updated our workflow with the best estimated hyperparameter values!\n",
        "\n",
        "#### The last fit: back to our test set.\n",
        "\n",
        "Finally, let's return to our test data and estimate the model performance we expect to see with new data.\n",
        "We can use the function [`last_fit()`](https://tidymodels.github.io/tune/reference/last_fit.html) with our finalized model; this function *fits* the finalized model on the full training data set and *evaluates* the finalized model on the testing data."
      ]
    },
    {
      "cell_type": "code",
      "execution_count": 19,
      "metadata": {
        "vscode": {
          "languageId": "r"
        }
      },
      "outputs": [
        {
          "data": {
            "text/html": [
              "<table class=\"dataframe\">\n",
              "<caption>A tibble: 2 × 4</caption>\n",
              "<thead>\n",
              "\t<tr><th scope=col>.metric</th><th scope=col>.estimator</th><th scope=col>.estimate</th><th scope=col>.config</th></tr>\n",
              "\t<tr><th scope=col>&lt;chr&gt;</th><th scope=col>&lt;chr&gt;</th><th scope=col>&lt;dbl&gt;</th><th scope=col>&lt;chr&gt;</th></tr>\n",
              "</thead>\n",
              "<tbody>\n",
              "\t<tr><td>rmse</td><td>standard</td><td>288.59728</td><td>Preprocessor1_Model1</td></tr>\n",
              "\t<tr><td>rsq </td><td>standard</td><td>  0.83032</td><td>Preprocessor1_Model1</td></tr>\n",
              "</tbody>\n",
              "</table>\n"
            ],
            "text/latex": [
              "A tibble: 2 × 4\n",
              "\\begin{tabular}{llll}\n",
              " .metric & .estimator & .estimate & .config\\\\\n",
              " <chr> & <chr> & <dbl> & <chr>\\\\\n",
              "\\hline\n",
              "\t rmse & standard & 288.59728 & Preprocessor1\\_Model1\\\\\n",
              "\t rsq  & standard &   0.83032 & Preprocessor1\\_Model1\\\\\n",
              "\\end{tabular}\n"
            ],
            "text/markdown": [
              "\n",
              "A tibble: 2 × 4\n",
              "\n",
              "| .metric &lt;chr&gt; | .estimator &lt;chr&gt; | .estimate &lt;dbl&gt; | .config &lt;chr&gt; |\n",
              "|---|---|---|---|\n",
              "| rmse | standard | 288.59728 | Preprocessor1_Model1 |\n",
              "| rsq  | standard |   0.83032 | Preprocessor1_Model1 |\n",
              "\n"
            ],
            "text/plain": [
              "  .metric .estimator .estimate .config             \n",
              "1 rmse    standard   288.59728 Preprocessor1_Model1\n",
              "2 rsq     standard     0.83032 Preprocessor1_Model1"
            ]
          },
          "metadata": {},
          "output_type": "display_data"
        }
      ],
      "source": [
        "# Make a last fit\n",
        "final_fit <- final_wf %>% \n",
        "  last_fit(bike_split)\n",
        "\n",
        "\n",
        "# Collect metrics\n",
        "final_fit %>% \n",
        "  collect_metrics()"
      ]
    },
    {
      "cell_type": "markdown",
      "metadata": {},
      "source": [
        "How's that for a tune 🎶 ​💃​🕺​​​!\n",
        "Also, there seems to be some improvement in the evaluation metrics compared to using the default values for *learn_rate* and *tree_depth* hyperparameters.\n",
        "Now, we leave it to you to explore how tuning the other hyperparameters affects the model performance.\n",
        "\n",
        "We've now seen a number of common techniques used to train predictive models for regression.\n",
        "In a real project, you'd likely try a few more algorithms, hyperparameters, and preprocessing transformations; but by now you should have got the general idea of the procedure to follow.\n",
        "You can always explore the [reference docs](https://www.tidymodels.org/find/parsnip/#models), or use the `args()` function to see which parsnip object arguments are available.\n",
        "\n",
        "> See this [Tidymodels reference page](https://www.tidymodels.org/find/parsnip/#models) to explore model types and engines and to explore model arguments.\n",
        "\n",
        "Let's now explore how you can use the trained model with new data.\n",
        "\n",
        "### Use the Trained Model\n",
        "\n",
        "We'll begin by saving our model but first, let's extract the *trained workflow* object from `final_fit` object."
      ]
    },
    {
      "cell_type": "code",
      "execution_count": null,
      "metadata": {
        "vscode": {
          "languageId": "r"
        }
      },
      "outputs": [],
      "source": [
        "# Extract trained workflow\n",
        "bike_boost_model <- final_fit %>% \n",
        "  extract_workflow()"
      ]
    },
    {
      "cell_type": "markdown",
      "metadata": {},
      "source": [
        "Now, we can save this model to be used later."
      ]
    },
    {
      "cell_type": "code",
      "execution_count": null,
      "metadata": {
        "vscode": {
          "languageId": "r"
        }
      },
      "outputs": [],
      "source": [
        "# Save trained workflow\n",
        "saveRDS(bike_boost_model, 'bike_boost_model.rds')"
      ]
    },
    {
      "cell_type": "markdown",
      "metadata": {},
      "source": [
        "Now, we can load it whenever we need it, and use it to predict labels for new data.\n",
        "This is often called *`scoring`* or *`inferencing`*.\n",
        "\n",
        "For example, lets try and predict some values from our test set using the saved model."
      ]
    },
    {
      "cell_type": "code",
      "execution_count": null,
      "metadata": {
        "vscode": {
          "languageId": "r"
        }
      },
      "outputs": [],
      "source": [
        "# Load the model\n",
        "loaded_model <- readRDS(\"bike_boost_model.rds\")\n",
        "\n",
        "# Extract predictors\n",
        "bike_new <- bike_test %>% \n",
        "  dplyr::slice(5:9)\n",
        "\n",
        "# Use the model to predict rentals\n",
        "results <- loaded_model %>% \n",
        "  augment(bike_new)\n",
        "\n",
        "# See model predictions \n",
        "results"
      ]
    },
    {
      "cell_type": "markdown",
      "metadata": {},
      "source": [
        "PeRfect!\n",
        "All is well that ends with a working model, time to end the cycle **🚴**!\n",
        "\n",
        "### **Summary**\n",
        "\n",
        "That concludes the notebooks for this module on regression.\n",
        "In this notebook we ran a complex regression, tuned it, saved the model, and used it to predict outcomes for the future.\n",
        "\n",
        "### **Further Reading**\n",
        "\n",
        "To learn more about Tidymodels, see the [Tidymodels documentation](https://www.tidymodels.org/)."
      ]
    }
  ],
  "metadata": {
    "kernelspec": {
      "display_name": "R",
      "language": "R",
      "name": "ir"
    },
    "language_info": {
      "codemirror_mode": "r",
      "file_extension": ".r",
      "mimetype": "text/x-r-source",
      "name": "R",
      "pygments_lexer": "r",
      "version": "4.1.2"
    }
  },
  "nbformat": 4,
  "nbformat_minor": 4
}
